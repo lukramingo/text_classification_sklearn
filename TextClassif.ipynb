{
 "cells": [
  {
   "cell_type": "markdown",
   "metadata": {},
   "source": [
    "<h1>Text Classification Using Machine Learning Algorithm"
   ]
  },
  {
   "cell_type": "code",
   "execution_count": 1,
   "metadata": {},
   "outputs": [],
   "source": [
    "import pandas as pd\n",
    "import numpy as np\n",
    "import re\n",
    "from textblob import Word\n",
    "\n",
    "import os\n",
    "\n",
    "from sklearn.feature_extraction.text import CountVectorizer,TfidfTransformer,TfidfVectorizer\n",
    "\n",
    "# to splite dataset into train and test data.\n",
    "from sklearn.model_selection import train_test_split, cross_validate\n",
    "from sklearn.utils import shuffle\n",
    "from sklearn.metrics import confusion_matrix\n",
    "\n",
    "# importing Machine learning Algorithm from sklearn\n",
    "from sklearn.linear_model import LogisticRegression #Logistic Regression\n",
    "from sklearn.linear_model import LinearRegression #Linear Regression\n",
    "from sklearn.neighbors.nearest_centroid import NearestCentroid # Centroid Based Classifier\n",
    "from sklearn.neighbors import KNeighborsClassifier #KNN Classifier\n",
    "from sklearn.svm import SVC # Support Vector Machine\n",
    "from sklearn.naive_bayes import BernoulliNB # Naive Bayes Classifier\n",
    "from sklearn.tree import DecisionTreeClassifier # Decission Tree\n",
    "from sklearn.ensemble import RandomForestClassifier\n",
    "from sklearn.metrics import classification_report\n",
    "from sklearn.model_selection import cross_val_score\n",
    "import matplotlib.pyplot as plt\n",
    "import seaborn as sns"
   ]
  },
  {
   "cell_type": "code",
   "execution_count": 4,
   "metadata": {},
   "outputs": [],
   "source": [
    "data = pd.read_csv('mydatset.csv')"
   ]
  },
  {
   "cell_type": "code",
   "execution_count": 6,
   "metadata": {},
   "outputs": [],
   "source": [
    "def clean_str(string):\n",
    "    \"\"\"\n",
    "    Tokenization/string cleaning for datasets.\n",
    "    \"\"\"\n",
    "    string = re.sub(r\"\\'s\", \"\", string)\n",
    "    string = re.sub(r\"\\'ve\", \"\", string)\n",
    "    string = re.sub(r\"n\\'t\", \"\", string)\n",
    "    string = re.sub(r\"\\'re\", \"\", string)\n",
    "    string = re.sub(r\"\\'d\", \"\", string)\n",
    "    string = re.sub(r\"\\'ll\", \"\", string)\n",
    "    string = re.sub(r\",\", \"\", string)\n",
    "    string = re.sub(r\"!\", \" ! \", string)\n",
    "    string = re.sub(r\"\\(\", \"\", string)\n",
    "    string = re.sub(r\"\\)\", \"\", string)\n",
    "    string = re.sub(r\"\\?\", \"\", string)\n",
    "    string = re.sub(r\"'\", \"\", string)\n",
    "    string = re.sub(r\"[^A-Za-z0-9(),!?\\'\\`]\", \" \", string)\n",
    "    string = re.sub(r\"[0-9]\\w+|[0-9]\",\"\", string)\n",
    "    string = re.sub(r\"\\s{2,}\", \" \", string)\n",
    "    return string.strip().lower()"
   ]
  },
  {
   "cell_type": "code",
   "execution_count": 7,
   "metadata": {},
   "outputs": [],
   "source": [
    "from sklearn import preprocessing\n",
    "labelEncoder = preprocessing.LabelEncoder()\n",
    "labelEncoder.fit(data['type'])\n",
    "data['type'] = labelEncoder.transform(data['type'])"
   ]
  },
  {
   "cell_type": "code",
   "execution_count": 8,
   "metadata": {},
   "outputs": [
    {
     "name": "stderr",
     "output_type": "stream",
     "text": [
      "C:\\Users\\Lukram Boy\\Anaconda3\\lib\\site-packages\\ipykernel_launcher.py:3: SettingWithCopyWarning: \n",
      "A value is trying to be set on a copy of a slice from a DataFrame\n",
      "\n",
      "See the caveats in the documentation: http://pandas.pydata.org/pandas-docs/stable/indexing.html#indexing-view-versus-copy\n",
      "  This is separate from the ipykernel package so we can avoid doing imports until\n"
     ]
    }
   ],
   "source": [
    "for index,value in enumerate(data['news']):\n",
    "    # print \"processing data:\",index\n",
    "    data['news'][index] = ' '.join([Word(word).lemmatize() for word in clean_str(value).split()])\n"
   ]
  },
  {
   "cell_type": "code",
   "execution_count": 9,
   "metadata": {},
   "outputs": [],
   "source": [
    "vect = TfidfVectorizer(stop_words='english',min_df=2)\n",
    "feature = vect.fit_transform(data[\"news\"])"
   ]
  },
  {
   "cell_type": "code",
   "execution_count": 10,
   "metadata": {},
   "outputs": [],
   "source": [
    "label = data[\"type\"]\n",
    "# Suffle data to increase accuracy\n",
    "label, feature = shuffle(label, feature, random_state=1)\n",
    "x_train, x_test, y_train, y_test = train_test_split(feature, label, test_size=0.20, random_state=0)\n"
   ]
  },
  {
   "cell_type": "code",
   "execution_count": 13,
   "metadata": {},
   "outputs": [],
   "source": [
    "# # Now train the model\n",
    "linearRegr = LinearRegression().fit(x_train, y_train)\n",
    "logisticRegr = LogisticRegression().fit(x_train, y_train)\n",
    "model_centroid = NearestCentroid().fit(x_train, y_train)\n",
    "model_knn = KNeighborsClassifier(28).fit(x_train, y_train)\n",
    "model_svm = SVC().fit(x_train, y_train)\n",
    "model_nb = BernoulliNB().fit(x_train, y_train)\n",
    "model_dtree = DecisionTreeClassifier(criterion = \"entropy\",\n",
    " random_state = 100, max_depth=3, min_samples_leaf=5).fit(x_train, y_train)\n",
    "model_rfc = RandomForestClassifier(n_estimators=300, max_depth=150,n_jobs=1).fit(x_train, y_train)"
   ]
  },
  {
   "cell_type": "code",
   "execution_count": 14,
   "metadata": {},
   "outputs": [
    {
     "name": "stdout",
     "output_type": "stream",
     "text": [
      "The accuracy of Linear Regression is 85.82\n",
      "The accuracy of Logistic Regression is 97.53\n",
      "The accuracy of Centroid Based Classifier is 96.40\n",
      "The accuracy of KNN is 94.38\n",
      "The accuracy of SVM is 21.35\n",
      "The accuracy of Naive Bayes is 96.40\n",
      "The accuracy of Decission Tree is 56.63\n",
      "The accuracy of RandomForest Classifier is 95.96\n"
     ]
    }
   ],
   "source": [
    " # Find the accuracy of each model\n",
    "phrase = \"The accuracy of %s is %0.2f\"\n",
    "accu_lir = linearRegr.score(x_test, y_test)\n",
    "print(phrase % (\"Linear Regression\", 100*accu_lir))\n",
    "accu_lr = logisticRegr.score(x_test, y_test)\n",
    "print(phrase % (\"Logistic Regression\", 100*accu_lr))\n",
    "accu_centroid = model_centroid.score(x_test, y_test)\n",
    "print(phrase % (\"Centroid Based Classifier\", 100*accu_centroid))\n",
    "accu_knn = model_knn.score(x_test, y_test)\n",
    "print(phrase % (\"KNN\", 100*accu_knn))\n",
    "accu_svm = model_svm.score(x_test, y_test)\n",
    "print(phrase % (\"SVM\", 100*accu_svm))\n",
    "accu_nb = model_nb.score(x_test, y_test)\n",
    "print(phrase % (\"Naive Bayes\", 100*accu_nb))\n",
    "accu_dtree = model_dtree.score(x_test, y_test)\n",
    "print(phrase % (\"Decission Tree\", 100*accu_dtree))\n",
    "accu_rfc = model_rfc.score(x_test, y_test)\n",
    "print(phrase % (\"RandomForest Classifier\", 100*accu_rfc))\n",
    "y_pred = model_centroid.predict(x_test)\n"
   ]
  },
  {
   "cell_type": "code",
   "execution_count": 16,
   "metadata": {},
   "outputs": [],
   "source": [
    "# PERFORMANCE OF DIFFERENT MODELS USING CROSS VALIDATION \n",
    "scoring_list = {'ac': 'accuracy', 'pc' : 'precision_macro', 're': 'recall_macro', 'f1': 'f1_macro'}"
   ]
  },
  {
   "cell_type": "code",
   "execution_count": 17,
   "metadata": {},
   "outputs": [
    {
     "name": "stdout",
     "output_type": "stream",
     "text": [
      "(1) LOGISTIC REGRESSION -------------->\n",
      "Accuracy: 0.97 (+/- 0.01)\n",
      "Precision: 0.97 (+/- 0.01)\n",
      "Recall: 0.97 (+/- 0.01)\n",
      "F1: 0.97 (+/- 0.01)\n"
     ]
    }
   ],
   "source": [
    "print(\"(1) LOGISTIC REGRESSION -------------->\")\n",
    "scores_lor = cross_validate(logisticRegr, feature, label, cv=5, scoring = scoring_list)\n",
    "print(\"Accuracy: %0.2f (+/- %0.2f)\" % (scores_lor['test_ac'].mean(), scores_lor['test_ac'].std() * 2))\n",
    "print(\"Precision: %0.2f (+/- %0.2f)\" % (scores_lor['test_pc'].mean(), scores_lor['test_pc'].std() * 2))\n",
    "print(\"Recall: %0.2f (+/- %0.2f)\" % (scores_lor['test_re'].mean(), scores_lor['test_re'].std() * 2))\n",
    "print(\"F1: %0.2f (+/- %0.2f)\" % (scores_lor['test_f1'].mean(), scores_lor['test_f1'].std() * 2))\n"
   ]
  },
  {
   "cell_type": "code",
   "execution_count": 18,
   "metadata": {},
   "outputs": [
    {
     "name": "stdout",
     "output_type": "stream",
     "text": [
      "\n",
      "(2) CENTROID BASED CLASSIFIER -------------->\n",
      "Accuracy: 0.96 (+/- 0.01)\n",
      "Precision: 0.96 (+/- 0.01)\n",
      "Recall: 0.96 (+/- 0.01)\n",
      "F1: 0.96 (+/- 0.01)\n"
     ]
    }
   ],
   "source": [
    "print(\"\\n(2) CENTROID BASED CLASSIFIER -------------->\")\n",
    "scores_nc = cross_validate(model_centroid, feature, label, scoring = scoring_list, cv=5)\n",
    "print(\"Accuracy: %0.2f (+/- %0.2f)\" % (scores_nc['test_ac'].mean(), scores_nc['test_ac'].std() * 2))\n",
    "print(\"Precision: %0.2f (+/- %0.2f)\" % (scores_nc['test_pc'].mean(), scores_nc['test_pc'].std() * 2))\n",
    "print(\"Recall: %0.2f (+/- %0.2f)\" % (scores_nc['test_re'].mean(), scores_nc['test_re'].std() * 2))\n",
    "print(\"F1: %0.2f (+/- %0.2f)\" % (scores_nc['test_f1'].mean(), scores_nc['test_f1'].std() * 2))\n"
   ]
  },
  {
   "cell_type": "code",
   "execution_count": 19,
   "metadata": {},
   "outputs": [
    {
     "name": "stdout",
     "output_type": "stream",
     "text": [
      "\n",
      "(3) K-NN CLASSIFIER -------------->\n",
      "Accuracy: 0.96 (+/- 0.01)\n",
      "Precision: 0.96 (+/- 0.01)\n",
      "Recall: 0.96 (+/- 0.01)\n",
      "F1: 0.96 (+/- 0.01)\n"
     ]
    }
   ],
   "source": [
    "print(\"\\n(3) K-NN CLASSIFIER -------------->\")\n",
    "scores_knn = cross_validate(model_centroid, feature, label, scoring = scoring_list, cv=5)\n",
    "print(\"Accuracy: %0.2f (+/- %0.2f)\" % (scores_knn['test_ac'].mean(), scores_knn['test_ac'].std() * 2))\n",
    "print(\"Precision: %0.2f (+/- %0.2f)\" % (scores_knn['test_pc'].mean(), scores_knn['test_pc'].std() * 2))\n",
    "print(\"Recall: %0.2f (+/- %0.2f)\" % (scores_knn['test_re'].mean(), scores_knn['test_re'].std() * 2))\n",
    "print(\"F1: %0.2f (+/- %0.2f)\" % (scores_knn['test_f1'].mean(), scores_knn['test_f1'].std() * 2))"
   ]
  },
  {
   "cell_type": "code",
   "execution_count": 20,
   "metadata": {},
   "outputs": [
    {
     "name": "stdout",
     "output_type": "stream",
     "text": [
      "\n",
      "(4) SVM -------------->\n"
     ]
    },
    {
     "name": "stderr",
     "output_type": "stream",
     "text": [
      "C:\\Users\\Lukram Boy\\Anaconda3\\lib\\site-packages\\sklearn\\metrics\\classification.py:1135: UndefinedMetricWarning: Precision is ill-defined and being set to 0.0 in labels with no predicted samples.\n",
      "  'precision', 'predicted', average, warn_for)\n",
      "C:\\Users\\Lukram Boy\\Anaconda3\\lib\\site-packages\\sklearn\\metrics\\classification.py:1135: UndefinedMetricWarning: F-score is ill-defined and being set to 0.0 in labels with no predicted samples.\n",
      "  'precision', 'predicted', average, warn_for)\n",
      "C:\\Users\\Lukram Boy\\Anaconda3\\lib\\site-packages\\sklearn\\metrics\\classification.py:1135: UndefinedMetricWarning: Precision is ill-defined and being set to 0.0 in labels with no predicted samples.\n",
      "  'precision', 'predicted', average, warn_for)\n",
      "C:\\Users\\Lukram Boy\\Anaconda3\\lib\\site-packages\\sklearn\\metrics\\classification.py:1135: UndefinedMetricWarning: F-score is ill-defined and being set to 0.0 in labels with no predicted samples.\n",
      "  'precision', 'predicted', average, warn_for)\n",
      "C:\\Users\\Lukram Boy\\Anaconda3\\lib\\site-packages\\sklearn\\metrics\\classification.py:1135: UndefinedMetricWarning: Precision is ill-defined and being set to 0.0 in labels with no predicted samples.\n",
      "  'precision', 'predicted', average, warn_for)\n",
      "C:\\Users\\Lukram Boy\\Anaconda3\\lib\\site-packages\\sklearn\\metrics\\classification.py:1135: UndefinedMetricWarning: F-score is ill-defined and being set to 0.0 in labels with no predicted samples.\n",
      "  'precision', 'predicted', average, warn_for)\n",
      "C:\\Users\\Lukram Boy\\Anaconda3\\lib\\site-packages\\sklearn\\metrics\\classification.py:1135: UndefinedMetricWarning: Precision is ill-defined and being set to 0.0 in labels with no predicted samples.\n",
      "  'precision', 'predicted', average, warn_for)\n",
      "C:\\Users\\Lukram Boy\\Anaconda3\\lib\\site-packages\\sklearn\\metrics\\classification.py:1135: UndefinedMetricWarning: F-score is ill-defined and being set to 0.0 in labels with no predicted samples.\n",
      "  'precision', 'predicted', average, warn_for)\n",
      "C:\\Users\\Lukram Boy\\Anaconda3\\lib\\site-packages\\sklearn\\metrics\\classification.py:1135: UndefinedMetricWarning: Precision is ill-defined and being set to 0.0 in labels with no predicted samples.\n",
      "  'precision', 'predicted', average, warn_for)\n",
      "C:\\Users\\Lukram Boy\\Anaconda3\\lib\\site-packages\\sklearn\\metrics\\classification.py:1135: UndefinedMetricWarning: F-score is ill-defined and being set to 0.0 in labels with no predicted samples.\n",
      "  'precision', 'predicted', average, warn_for)\n",
      "C:\\Users\\Lukram Boy\\Anaconda3\\lib\\site-packages\\sklearn\\metrics\\classification.py:1135: UndefinedMetricWarning: Precision is ill-defined and being set to 0.0 in labels with no predicted samples.\n",
      "  'precision', 'predicted', average, warn_for)\n",
      "C:\\Users\\Lukram Boy\\Anaconda3\\lib\\site-packages\\sklearn\\metrics\\classification.py:1135: UndefinedMetricWarning: F-score is ill-defined and being set to 0.0 in labels with no predicted samples.\n",
      "  'precision', 'predicted', average, warn_for)\n",
      "C:\\Users\\Lukram Boy\\Anaconda3\\lib\\site-packages\\sklearn\\metrics\\classification.py:1135: UndefinedMetricWarning: Precision is ill-defined and being set to 0.0 in labels with no predicted samples.\n",
      "  'precision', 'predicted', average, warn_for)\n",
      "C:\\Users\\Lukram Boy\\Anaconda3\\lib\\site-packages\\sklearn\\metrics\\classification.py:1135: UndefinedMetricWarning: F-score is ill-defined and being set to 0.0 in labels with no predicted samples.\n",
      "  'precision', 'predicted', average, warn_for)\n",
      "C:\\Users\\Lukram Boy\\Anaconda3\\lib\\site-packages\\sklearn\\metrics\\classification.py:1135: UndefinedMetricWarning: Precision is ill-defined and being set to 0.0 in labels with no predicted samples.\n",
      "  'precision', 'predicted', average, warn_for)\n",
      "C:\\Users\\Lukram Boy\\Anaconda3\\lib\\site-packages\\sklearn\\metrics\\classification.py:1135: UndefinedMetricWarning: F-score is ill-defined and being set to 0.0 in labels with no predicted samples.\n",
      "  'precision', 'predicted', average, warn_for)\n",
      "C:\\Users\\Lukram Boy\\Anaconda3\\lib\\site-packages\\sklearn\\metrics\\classification.py:1135: UndefinedMetricWarning: Precision is ill-defined and being set to 0.0 in labels with no predicted samples.\n",
      "  'precision', 'predicted', average, warn_for)\n",
      "C:\\Users\\Lukram Boy\\Anaconda3\\lib\\site-packages\\sklearn\\metrics\\classification.py:1135: UndefinedMetricWarning: F-score is ill-defined and being set to 0.0 in labels with no predicted samples.\n",
      "  'precision', 'predicted', average, warn_for)\n",
      "C:\\Users\\Lukram Boy\\Anaconda3\\lib\\site-packages\\sklearn\\metrics\\classification.py:1135: UndefinedMetricWarning: Precision is ill-defined and being set to 0.0 in labels with no predicted samples.\n",
      "  'precision', 'predicted', average, warn_for)\n"
     ]
    },
    {
     "name": "stdout",
     "output_type": "stream",
     "text": [
      "Accuracy: 0.27 (+/- 0.18)\n",
      "Precision: 0.08 (+/- 0.13)\n",
      "Recall: 0.24 (+/- 0.16)\n",
      "F1: 0.11 (+/- 0.15)\n"
     ]
    },
    {
     "name": "stderr",
     "output_type": "stream",
     "text": [
      "C:\\Users\\Lukram Boy\\Anaconda3\\lib\\site-packages\\sklearn\\metrics\\classification.py:1135: UndefinedMetricWarning: F-score is ill-defined and being set to 0.0 in labels with no predicted samples.\n",
      "  'precision', 'predicted', average, warn_for)\n"
     ]
    }
   ],
   "source": [
    "print(\"\\n(4) SVM -------------->\")\n",
    "scores_sv = cross_validate(model_svm, feature, label, scoring = scoring_list, cv=5)\n",
    "print(\"Accuracy: %0.2f (+/- %0.2f)\" % (scores_sv['test_ac'].mean(), scores_sv['test_ac'].std() * 2))\n",
    "print(\"Precision: %0.2f (+/- %0.2f)\" % (scores_sv['test_pc'].mean(), scores_sv['test_pc'].std() * 2))\n",
    "print(\"Recall: %0.2f (+/- %0.2f)\" % (scores_sv['test_re'].mean(), scores_sv['test_re'].std() * 2))\n",
    "print(\"F1: %0.2f (+/- %0.2f)\" % (scores_sv['test_f1'].mean(), scores_sv['test_f1'].std() * 2))"
   ]
  },
  {
   "cell_type": "code",
   "execution_count": 21,
   "metadata": {},
   "outputs": [
    {
     "name": "stdout",
     "output_type": "stream",
     "text": [
      "\n",
      "(5) NAIVE BAYES -------------->\n",
      "Accuracy: 0.96 (+/- 0.01)\n",
      "Precision: 0.96 (+/- 0.01)\n",
      "Recall: 0.95 (+/- 0.01)\n",
      "F1: 0.96 (+/- 0.01)\n"
     ]
    }
   ],
   "source": [
    "print(\"\\n(5) NAIVE BAYES -------------->\")\n",
    "scores_nb = cross_validate(model_nb, feature, label, scoring = scoring_list, cv=5)\n",
    "print(\"Accuracy: %0.2f (+/- %0.2f)\" % (scores_nb['test_ac'].mean(), scores_nb['test_ac'].std() * 2))\n",
    "print(\"Precision: %0.2f (+/- %0.2f)\" % (scores_nb['test_pc'].mean(), scores_nb['test_pc'].std() * 2))\n",
    "print(\"Recall: %0.2f (+/- %0.2f)\" % (scores_nb['test_re'].mean(), scores_nb['test_re'].std() * 2))\n",
    "print(\"F1: %0.2f (+/- %0.2f)\" % (scores_nb['test_f1'].mean(), scores_nb['test_f1'].std() * 2))"
   ]
  },
  {
   "cell_type": "code",
   "execution_count": 22,
   "metadata": {},
   "outputs": [
    {
     "name": "stdout",
     "output_type": "stream",
     "text": [
      "\n",
      "(6) DECISION TREE -------------->\n",
      "Accuracy: 0.54 (+/- 0.04)\n",
      "Precision: 0.70 (+/- 0.11)\n",
      "Recall: 0.53 (+/- 0.03)\n",
      "F1: 0.52 (+/- 0.05)\n"
     ]
    }
   ],
   "source": [
    "print(\"\\n(6) DECISION TREE -------------->\")\n",
    "scores_dt = cross_validate(model_dtree, feature, label, scoring = scoring_list, cv=5)\n",
    "print(\"Accuracy: %0.2f (+/- %0.2f)\" % (scores_dt['test_ac'].mean(), scores_dt['test_ac'].std() * 2))\n",
    "print(\"Precision: %0.2f (+/- %0.2f)\" % (scores_dt['test_pc'].mean(), scores_dt['test_pc'].std() * 2))\n",
    "print(\"Recall: %0.2f (+/- %0.2f)\" % (scores_dt['test_re'].mean(), scores_dt['test_re'].std() * 2))\n",
    "print(\"F1: %0.2f (+/- %0.2f)\" % (scores_dt['test_f1'].mean(), scores_dt['test_f1'].std() * 2))"
   ]
  },
  {
   "cell_type": "code",
   "execution_count": 23,
   "metadata": {},
   "outputs": [
    {
     "name": "stdout",
     "output_type": "stream",
     "text": [
      "\n",
      "(7) RAMDOM FOREST -------------->\n",
      "Accuracy: 0.96 (+/- 0.01)\n",
      "Precision: 0.97 (+/- 0.01)\n",
      "Recall: 0.96 (+/- 0.01)\n",
      "F1: 0.96 (+/- 0.01)\n"
     ]
    }
   ],
   "source": [
    "print(\"\\n(7) RAMDOM FOREST -------------->\")\n",
    "scores_rf = cross_validate(model_rfc, feature, label, scoring = scoring_list, cv=5)\n",
    "print(\"Accuracy: %0.2f (+/- %0.2f)\" % (scores_rf['test_ac'].mean(), scores_rf['test_ac'].std() * 2))\n",
    "print(\"Precision: %0.2f (+/- %0.2f)\" % (scores_rf['test_pc'].mean(), scores_rf['test_pc'].std() * 2))\n",
    "print(\"Recall: %0.2f (+/- %0.2f)\" % (scores_rf['test_re'].mean(), scores_rf['test_re'].std() * 2))\n",
    "print(\"F1: %0.2f (+/- %0.2f)\" % (scores_rf['test_f1'].mean(), scores_rf['test_f1'].std() * 2))\n"
   ]
  },
  {
   "cell_type": "code",
   "execution_count": 24,
   "metadata": {},
   "outputs": [
    {
     "name": "stdout",
     "output_type": "stream",
     "text": [
      "k value with best accuracy is  [17]\n"
     ]
    },
    {
     "data": {
      "image/png": "[encoded data removed]",
      "text/plain": [
       "<Figure size 432x288 with 1 Axes>"
      ]
     },
     "metadata": {},
     "output_type": "display_data"
    }
   ],
   "source": [
    "#CROSS VALIDATION AND FINDING BEST K VALUE OF KNN\n",
    "k_scores = []\n",
    "for i in range(10,51):\n",
    "    kn = KNeighborsClassifier(i)\n",
    "    scores =cross_val_score(kn, feature, label, cv=5, scoring='accuracy')\n",
    "    k_scores.append(scores.mean())\n",
    "print(\"k value with best accuracy is \", np.where(np.array(k_scores) == np.array(k_scores).max())[0])\n",
    "\n",
    "plt.plot(k_scores)\n",
    "plt.show()"
   ]
  },
  {
   "cell_type": "code",
   "execution_count": 25,
   "metadata": {},
   "outputs": [],
   "source": [
    "def print_confusion_matrix(confusion_matrix, class_names, figsize = (10,7), fontsize=14):\n",
    "    df_cm = pd.DataFrame(confusion_matrix, index=class_names, columns=class_names,)\n",
    "    fig = plt.figure(figsize=figsize)\n",
    "    try:\n",
    "        heatmap = sns.heatmap(df_cm, annot=True, fmt=\"d\", linewidths=.5, square = True, cmap = 'Blues_r')\n",
    "    except ValueError:\n",
    "        raise ValueError(\"Confusion matrix values must be integers.\")\n",
    "    heatmap.yaxis.set_ticklabels(heatmap.yaxis.get_ticklabels(), rotation=0, ha='right', fontsize=fontsize)\n",
    "    heatmap.xaxis.set_ticklabels(heatmap.xaxis.get_ticklabels(), rotation=45, ha='right', fontsize=fontsize)\n",
    "    plt.xlabel('Predicted label')\n",
    "    plt.ylabel('Actual label')\n",
    "    return fig \n"
   ]
  },
  {
   "cell_type": "code",
   "execution_count": 26,
   "metadata": {},
   "outputs": [],
   "source": [
    "cm = confusion_matrix(y_test,y_pred)"
   ]
  },
  {
   "cell_type": "code",
   "execution_count": 27,
   "metadata": {},
   "outputs": [
    {
     "name": "stdout",
     "output_type": "stream",
     "text": [
      "Method 1 (Seaborn)\n"
     ]
    },
    {
     "data": {
      "image/png": "[encoded data removed]",
      "text/plain": [
       "<Figure size 648x648 with 2 Axes>"
      ]
     },
     "metadata": {},
     "output_type": "display_data"
    }
   ],
   "source": [
    "print(\"Method 1 (Seaborn)\")\n",
    "plt.figure(figsize=(9,9))\n",
    "sns.heatmap(cm, annot=True, fmt=\".3f\", linewidths=.5, square = True, cmap = 'Blues_r');\n",
    "plt.ylabel('Actual label');\n",
    "plt.xlabel('Predicted label');\n",
    "plt.show()"
   ]
  },
  {
   "cell_type": "code",
   "execution_count": 28,
   "metadata": {},
   "outputs": [],
   "source": [
    "def predictNews(news_article):\n",
    "\ttf_idf_news = vect.transform([news_article])\n",
    "\t# print (tf_idf_news)\n",
    "\tprint(\"The given news type is \",logisticRegr.predict(tf_idf_news))"
   ]
  },
  {
   "cell_type": "code",
   "execution_count": 29,
   "metadata": {},
   "outputs": [],
   "source": [
    "article = \"\"\"Ad sales boost Time Warner profit\n",
    "\n",
    "Quarterly profits at US media giant TimeWarner jumped 76% to $1.13bn (?600m) for the three months to December, from $639m year-earlier.\n",
    "\n",
    "The firm, which is now one of the biggest investors in Google, benefited from sales of high-speed internet connections and higher advert sales. TimeWarner said fourth quarter sales rose 2% to $11.1bn from $10.9bn. Its profits were buoyed by one-off gains which offset a profit dip at Warner Bros, and less users for AOL.\n",
    "\n",
    "Time Warner said on Friday that it now owns 8% of search-engine Google. But its own internet business, AOL, had has mixed fortunes. It lost 464,000 subscribers in the fourth quarter profits were lower than in the preceding three quarters. However, the company said AOL's underlying profit before exceptional items rose 8% on the back of stronger internet advertising revenues. It hopes to increase subscribers by offering the online service free to TimeWarner internet customers and will try to sign up AOL's existing customers for high-speed broadband. TimeWarner also has to restate 2000 and 2003 results following a probe by the US Securities Exchange Commission (SEC), which is close to concluding.\n",
    "\n",
    "Time Warner's fourth quarter profits were slightly better than analysts' expectations. But its film division saw profits slump 27% to $284m, helped by box-office flops Alexander and Catwoman, a sharp contrast to year-earlier, when the third and final film in the Lord of the Rings trilogy boosted results. For the full-year, TimeWarner posted a profit of $3.36bn, up 27% from its 2003 performance, while revenues grew 6.4% to $42.09bn. \"Our financial performance was strong, meeting or exceeding all of our full-year objectives and greatly enhancing our flexibility,\" chairman and chief executive Richard Parsons said. For 2005, TimeWarner is projecting operating earnings growth of around 5%, and also expects higher revenue and wider profit margins.\n",
    "\n",
    "TimeWarner is to restate its accounts as part of efforts to resolve an inquiry into AOL by US market regulators. It has already offered to pay $300m to settle charges, in a deal that is under review by the SEC. The company said it was unable to estimate the amount it needed to set aside for legal reserves, which it previously set at $500m. It intends to adjust the way it accounts for a deal with German music publisher Bertelsmann's purchase of a stake in AOL Europe, which it had reported as advertising revenue. It will now book the sale of its stake in AOL Europe as a loss on the value of that stake.\"\"\"\n"
   ]
  },
  {
   "cell_type": "code",
   "execution_count": 30,
   "metadata": {},
   "outputs": [
    {
     "name": "stdout",
     "output_type": "stream",
     "text": [
      "The given news type is  [0]\n"
     ]
    }
   ],
   "source": [
    "predictNews(article)"
   ]
  },
  {
   "cell_type": "code",
   "execution_count": null,
   "metadata": {},
   "outputs": [],
   "source": []
  }
 ],
 "metadata": {
  "kernelspec": {
   "display_name": "Python 3",
   "language": "python",
   "name": "python3"
  },
  "language_info": {
   "codemirror_mode": {
    "name": "ipython",
    "version": 3
   },
   "file_extension": ".py",
   "mimetype": "text/x-python",
   "name": "python",
   "nbconvert_exporter": "python",
   "pygments_lexer": "ipython3",
   "version": "3.6.5"
  }
 },
 "nbformat": 4,
 "nbformat_minor": 2
}
